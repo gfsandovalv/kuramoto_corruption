{
 "cells": [
  {
   "cell_type": "code",
   "execution_count": null,
   "metadata": {},
   "outputs": [],
   "source": [
    "import numpy as np\n",
    "import networkx as nx\n",
    "import matplotlib.pyplot as plt\n",
    "from scipy import stats as st\n",
    "from modules.kuramoto import Kuramoto\n",
    "from modules.plotting import plot_activity, plot_phase_coherence\n",
    "\n",
    "n_osc = 10\n",
    "coupl = 2\n",
    "\n",
    "## frecuencias naturales usando la distribución de cauchy\n",
    "normal_dist = st.norm(loc=100, scale=1)\n",
    "natfreqs_sample = normal_dist.rvs(size=n_osc)\n",
    "\n",
    "#natfreqs_sample = [1,2,5,100]\n",
    "labeldict = {i:e for i, e in enumerate(np.floor(natfreqs_sample))}\n",
    "\n",
    "graph_nx = nx.erdos_renyi_graph(n=n_osc, p=1) # p=1 -> all-to-all connectivity\n",
    "graph = nx.to_numpy_array(graph_nx)"
   ]
  },
  {
   "cell_type": "code",
   "execution_count": null,
   "metadata": {},
   "outputs": [
    {
     "data": {
      "image/png": "[encoded data removed]",
      "text/plain": [
       "<Figure size 576x216 with 1 Axes>"
      ]
     },
     "metadata": {
      "needs_background": "light"
     },
     "output_type": "display_data"
    }
   ],
   "source": [
    "model = Kuramoto(coupling=coupl, dt=0.1, T=10, natfreqs=natfreqs_sample, forcing_amp=1, forcing_freq=555) \n",
    "act_mat = model.run(adj_mat=graph)\n",
    "\n",
    "plot_phase_coherence(act_mat);"
   ]
  },
  {
   "cell_type": "code",
   "execution_count": null,
   "metadata": {},
   "outputs": [
    {
     "ename": "TypeError",
     "evalue": "mean_frequency() takes 3 positional arguments but 4 were given",
     "output_type": "error",
     "traceback": [
      "\u001b[0;31m---------------------------------------------------------------------------\u001b[0m",
      "\u001b[0;31mTypeError\u001b[0m                                 Traceback (most recent call last)",
      "Input \u001b[0;32mIn [194]\u001b[0m, in \u001b[0;36m<module>\u001b[0;34m\u001b[0m\n\u001b[1;32m      2\u001b[0m act_mat \u001b[38;5;241m=\u001b[39m model\u001b[38;5;241m.\u001b[39mrun(adj_mat\u001b[38;5;241m=\u001b[39mgraph)\n\u001b[1;32m      4\u001b[0m model\u001b[38;5;241m.\u001b[39mderivative(act_mat[:,\u001b[38;5;241m0\u001b[39m], \u001b[38;5;28;01mNone\u001b[39;00m, graph, coupl)\n\u001b[0;32m----> 5\u001b[0m \u001b[43mmodel\u001b[49m\u001b[38;5;241;43m.\u001b[39;49m\u001b[43mmean_frequency\u001b[49m\u001b[43m(\u001b[49m\u001b[43mact_mat\u001b[49m\u001b[43m,\u001b[49m\u001b[43m \u001b[49m\u001b[43mgraph\u001b[49m\u001b[43m,\u001b[49m\u001b[43m \u001b[49m\u001b[43mcoupl\u001b[49m\u001b[43m)\u001b[49m\n",
      "\u001b[0;31mTypeError\u001b[0m: mean_frequency() takes 3 positional arguments but 4 were given"
     ]
    }
   ],
   "source": [
    "model = Kuramoto(coupling=3, dt=0.1, T=10, natfreqs=natfreqs_sample) \n",
    "act_mat = model.run(adj_mat=graph)\n",
    "\n",
    "model.derivative(act_mat[:,0], None, graph, coupl)\n",
    "model.mean_frequency(act_mat, graph, coupl)"
   ]
  },
  {
   "cell_type": "code",
   "execution_count": null,
   "metadata": {},
   "outputs": [
    {
     "data": {
      "text/plain": [
       "(10, 10)"
      ]
     },
     "execution_count": 172,
     "metadata": {},
     "output_type": "execute_result"
    }
   ],
   "source": [
    "graph.shape"
   ]
  }
 ],
 "metadata": {
  "interpreter": {
   "hash": "916dbcbb3f70747c44a77c7bcd40155683ae19c65e1c03b4aa3499c5328201f1"
  },
  "kernelspec": {
   "display_name": "Python 3.9.7 64-bit",
   "language": "python",
   "name": "python3"
  },
  "language_info": {
   "codemirror_mode": {
    "name": "ipython",
    "version": 3
   },
   "file_extension": ".py",
   "mimetype": "text/x-python",
   "name": "python",
   "nbconvert_exporter": "python",
   "pygments_lexer": "ipython3",
   "version": "3.9.7"
  },
  "orig_nbformat": 4
 },
 "nbformat": 4,
 "nbformat_minor": 2
}
