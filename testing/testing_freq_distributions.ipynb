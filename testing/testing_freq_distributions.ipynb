{
 "cells": [
  {
   "cell_type": "code",
   "execution_count": 11,
   "metadata": {},
   "outputs": [
    {
     "name": "stdout",
     "output_type": "stream",
     "text": [
      "[244.61615227 118.66853154 -13.1715247  261.93259634 156.75329802\n",
      " 253.88892051 -25.06910641 151.50864019 227.0194508  395.63920843\n",
      "  75.12809151  95.06714868  71.092588   256.98247197  45.62768141]\n"
     ]
    },
    {
     "data": {
      "image/png": "[encoded data removed]",
      "text/plain": [
       "<Figure size 576x216 with 1 Axes>"
      ]
     },
     "metadata": {
      "needs_background": "light"
     },
     "output_type": "display_data"
    }
   ],
   "source": [
    "import numpy as np\n",
    "import networkx as nx\n",
    "import matplotlib.pyplot as plt\n",
    "from scipy import stats as st\n",
    "from kuramoto import Kuramoto, plot_activity, plot_phase_coherence\n",
    "\n",
    "### parametros del modelo\n",
    "\n",
    "coupl = 3 # Coupling\n",
    "dt = 0.1 #\n",
    "T=10 # time interval (0, T)\n",
    "num_osc = 15 # number of oscillators\n",
    "\n",
    "\n",
    "## cauchy distribution\n",
    "#cauchy_dist = st.cauchy(loc=100, scale=10)\n",
    "#natfreqs_given = cauchy_dist.rvs(size=num_osc)\n",
    "\n",
    "## normal distribution\n",
    "normal_dist = st.norm(loc=100, scale=100)\n",
    "natfreqs_given = normal_dist.rvs(size=num_osc)\n",
    "print(natfreqs_given)\n",
    "\n",
    "#natfreqs_given = [1,2,5,100]\n",
    "labeldict = {i:e for i, e in enumerate(np.floor(natfreqs_given))}\n",
    "\n",
    "graph_nx = nx.erdos_renyi_graph(n=len(natfreqs_given), p=1) # p=1 -> all-to-all connectivity\n",
    "graph = nx.to_numpy_array(graph_nx)\n",
    "#nx.draw(graph_nx, labels=labeldict, with_labels = True)\n",
    "\n",
    "model = Kuramoto(coupling=coupl, dt=dt, T=T, natfreqs=natfreqs_given)   \n",
    "act_mat = model.run(adj_mat=graph)\n",
    "\n",
    "plot_phase_coherence(act_mat);\n",
    "        \n",
    "\n",
    "\n",
    "\n"
   ]
  }
 ],
 "metadata": {
  "interpreter": {
   "hash": "916dbcbb3f70747c44a77c7bcd40155683ae19c65e1c03b4aa3499c5328201f1"
  },
  "kernelspec": {
   "display_name": "Python 3.9.7 64-bit",
   "language": "python",
   "name": "python3"
  },
  "language_info": {
   "codemirror_mode": {
    "name": "ipython",
    "version": 3
   },
   "file_extension": ".py",
   "mimetype": "text/x-python",
   "name": "python",
   "nbconvert_exporter": "python",
   "pygments_lexer": "ipython3",
   "version": "3.9.7"
  },
  "orig_nbformat": 4
 },
 "nbformat": 4,
 "nbformat_minor": 2
}
